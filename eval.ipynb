{
  "nbformat": 4,
  "nbformat_minor": 0,
  "metadata": {
    "colab": {
      "name": "eval.ipynb",
      "provenance": [],
      "authorship_tag": "ABX9TyNTEn5HJNuD4ydqjEOzMmQ7",
      "include_colab_link": true
    },
    "kernelspec": {
      "name": "python3",
      "display_name": "Python 3"
    },
    "language_info": {
      "name": "python"
    }
  },
  "cells": [
    {
      "cell_type": "markdown",
      "metadata": {
        "id": "view-in-github",
        "colab_type": "text"
      },
      "source": [
        "<a href=\"https://colab.research.google.com/github/CRosero/aml-project/blob/master/eval.ipynb\" target=\"_parent\"><img src=\"https://colab.research.google.com/assets/colab-badge.svg\" alt=\"Open In Colab\"/></a>"
      ]
    },
    {
      "cell_type": "code",
      "execution_count": null,
      "metadata": {
        "id": "wi_SmN1OhIcS"
      },
      "outputs": [],
      "source": [
        "import torch\n",
        "import argparse\n",
        "import os\n",
        "from torch.utils.data import DataLoader\n",
        "from model.build_BiSeNet import BiSeNet\n",
        "import numpy as np\n",
        "from utils import reverse_one_hot, compute_global_accuracy, fast_hist, per_class_iu, cal_miou\n",
        "import tqdm"
      ]
    },
    {
      "cell_type": "code",
      "source": [
        "def eval(model,dataloader, args, csv_path):\n",
        "    print('start test!')\n",
        "    with torch.no_grad():\n",
        "        model.eval()\n",
        "        precision_record = []\n",
        "        tq = tqdm.tqdm(total=len(dataloader) * args.batch_size)\n",
        "        tq.set_description('test')\n",
        "        hist = np.zeros((args.num_classes, args.num_classes))\n",
        "        for i, (data, label) in enumerate(dataloader):\n",
        "            tq.update(args.batch_size)\n",
        "            if torch.cuda.is_available() and args.use_gpu:\n",
        "                data = data.cuda()\n",
        "                label = label.cuda()\n",
        "            predict = model(data).squeeze()\n",
        "            predict = reverse_one_hot(predict)\n",
        "            predict = np.array(predict)\n",
        "            # predict = colour_code_segmentation(np.array(predict), label_info)\n",
        "\n",
        "            label = label.squeeze()\n",
        "            if args.loss == 'dice':\n",
        "                label = reverse_one_hot(label)\n",
        "            label = np.array(label)\n",
        "            # label = colour_code_segmentation(np.array(label), label_info)\n",
        "\n",
        "            precision = compute_global_accuracy(predict, label)\n",
        "            hist += fast_hist(label.flatten(), predict.flatten(), args.num_classes)\n",
        "            precision_record.append(precision)\n",
        "        precision = np.mean(precision_record)\n",
        "        miou_list = per_class_iu(hist)[:-1]\n",
        "        miou_dict, miou = cal_miou(miou_list, csv_path)\n",
        "        print('IoU for each class:')\n",
        "        for key in miou_dict:\n",
        "            print('{}:{},'.format(key, miou_dict[key]))\n",
        "        tq.close()\n",
        "        print('precision for test: %.3f' % precision)\n",
        "        print('mIoU for validation: %.3f' % miou)\n",
        "        return precision"
      ],
      "metadata": {
        "id": "knXeVpanheMb"
      },
      "execution_count": null,
      "outputs": []
    },
    {
      "cell_type": "code",
      "source": [
        "def main(params):\n",
        "    # basic parameters\n",
        "    parser = argparse.ArgumentParser()\n",
        "    parser.add_argument('--checkpoint_path', type=str, default=None, required=True, help='The path to the pretrained weights of model')\n",
        "    parser.add_argument('--crop_height', type=int, default=720, help='Height of cropped/resized input image to network')\n",
        "    parser.add_argument('--crop_width', type=int, default=960, help='Width of cropped/resized input image to network')\n",
        "    parser.add_argument('--data', type=str, default='/path/to/data', help='Path of training data')\n",
        "    parser.add_argument('--batch_size', type=int, default=1, help='Number of images in each batch')\n",
        "    parser.add_argument('--context_path', type=str, default=\"resnet101\", help='The context path model you are using.')\n",
        "    parser.add_argument('--cuda', type=str, default='0', help='GPU ids used for training')\n",
        "    parser.add_argument('--use_gpu', type=bool, default=True, help='Whether to user gpu for training')\n",
        "    parser.add_argument('--num_classes', type=int, default=32, help='num of object classes (with void)')\n",
        "    parser.add_argument('--loss', type=str, default='dice', help='loss function, dice or crossentropy')\n",
        "    args = parser.parse_args(params)\n",
        "\n",
        "    # create dataset and dataloader here\n",
        "   \n",
        "    # build model\n",
        "    os.environ['CUDA_VISIBLE_DEVICES'] = args.cuda\n",
        "    model = BiSeNet(args.num_classes, args.context_path)\n",
        "    if torch.cuda.is_available() and args.use_gpu:\n",
        "        model = torch.nn.DataParallel(model).cuda()\n",
        "\n",
        "    # load pretrained model if exists\n",
        "    print('load model from %s ...' % args.checkpoint_path)\n",
        "    model.module.load_state_dict(torch.load(args.checkpoint_path))\n",
        "    print('Done!')\n",
        "\n",
        "    # get label info\n",
        "    # label_info = get_label_info(csv_path)\n",
        "    # test\n",
        "    eval(model, dataloader, args, csv_path)"
      ],
      "metadata": {
        "id": "mkbM9RH6hhHt"
      },
      "execution_count": null,
      "outputs": []
    },
    {
      "cell_type": "code",
      "source": [
        "if __name__ == '__main__':\n",
        "    params = [\n",
        "        '--checkpoint_path', 'path/to/ckpt',\n",
        "        '--data', '/path/to/data',\n",
        "        '--cuda', '0',\n",
        "        '--context_path', 'resnet18',\n",
        "        '--num_classes', '12'\n",
        "    ]\n",
        "    main(params)"
      ],
      "metadata": {
        "id": "ClLyq5Dihq0Y"
      },
      "execution_count": null,
      "outputs": []
    }
  ]
}