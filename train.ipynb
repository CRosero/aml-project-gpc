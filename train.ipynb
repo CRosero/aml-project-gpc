{
  "nbformat": 4,
  "nbformat_minor": 0,
  "metadata": {
    "colab": {
      "name": "train.ipynb",
      "provenance": [],
      "collapsed_sections": [],
      "mount_file_id": "https://github.com/CRosero/aml-project/blob/master/train.ipynb",
      "authorship_tag": "ABX9TyMOP9RQ/U+4oFWtP06+npa9",
      "include_colab_link": true
    },
    "kernelspec": {
      "name": "python3",
      "display_name": "Python 3"
    },
    "language_info": {
      "name": "python"
    }
  },
  "cells": [
    {
      "cell_type": "markdown",
      "metadata": {
        "id": "view-in-github",
        "colab_type": "text"
      },
      "source": [
        "<a href=\"https://colab.research.google.com/github/CRosero/aml-project/blob/master/train.ipynb\" target=\"_parent\"><img src=\"https://colab.research.google.com/assets/colab-badge.svg\" alt=\"Open In Colab\"/></a>"
      ]
    },
    {
      "cell_type": "code",
      "source": [
        "# Clone the entire repo.\n",
        "!git clone -l -s git://github.com/CRosero/aml-project.git cloned-repo\n",
        "%cd cloned-repo\n",
        "!ls"
      ],
      "metadata": {
        "colab": {
          "base_uri": "https://localhost:8080/"
        },
        "id": "3uzIXW9Z5Kl4",
        "outputId": "33fc25a5-77c4-477c-9bad-ce1e8709f8a6"
      },
      "execution_count": 1,
      "outputs": [
        {
          "output_type": "stream",
          "name": "stdout",
          "text": [
            "Cloning into 'cloned-repo'...\n",
            "warning: --local is ignored\n",
            "remote: Enumerating objects: 70, done.\u001b[K\n",
            "remote: Counting objects:   4% (1/21)\u001b[K\rremote: Counting objects:   9% (2/21)\u001b[K\rremote: Counting objects:  14% (3/21)\u001b[K\rremote: Counting objects:  19% (4/21)\u001b[K\rremote: Counting objects:  23% (5/21)\u001b[K\rremote: Counting objects:  28% (6/21)\u001b[K\rremote: Counting objects:  33% (7/21)\u001b[K\rremote: Counting objects:  38% (8/21)\u001b[K\rremote: Counting objects:  42% (9/21)\u001b[K\rremote: Counting objects:  47% (10/21)\u001b[K\rremote: Counting objects:  52% (11/21)\u001b[K\rremote: Counting objects:  57% (12/21)\u001b[K\rremote: Counting objects:  61% (13/21)\u001b[K\rremote: Counting objects:  66% (14/21)\u001b[K\rremote: Counting objects:  71% (15/21)\u001b[K\rremote: Counting objects:  76% (16/21)\u001b[K\rremote: Counting objects:  80% (17/21)\u001b[K\rremote: Counting objects:  85% (18/21)\u001b[K\rremote: Counting objects:  90% (19/21)\u001b[K\rremote: Counting objects:  95% (20/21)\u001b[K\rremote: Counting objects: 100% (21/21)\u001b[K\rremote: Counting objects: 100% (21/21), done.\u001b[K\n",
            "remote: Compressing objects:   4% (1/21)\u001b[K\rremote: Compressing objects:   9% (2/21)\u001b[K\rremote: Compressing objects:  14% (3/21)\u001b[K\rremote: Compressing objects:  19% (4/21)\u001b[K\rremote: Compressing objects:  23% (5/21)\u001b[K\rremote: Compressing objects:  28% (6/21)\u001b[K\rremote: Compressing objects:  33% (7/21)\u001b[K\rremote: Compressing objects:  38% (8/21)\u001b[K\rremote: Compressing objects:  42% (9/21)\u001b[K\rremote: Compressing objects:  47% (10/21)\u001b[K\rremote: Compressing objects:  52% (11/21)\u001b[K\rremote: Compressing objects:  57% (12/21)\u001b[K\rremote: Compressing objects:  61% (13/21)\u001b[K\rremote: Compressing objects:  66% (14/21)\u001b[K\rremote: Compressing objects:  71% (15/21)\u001b[K\rremote: Compressing objects:  76% (16/21)\u001b[K\rremote: Compressing objects:  80% (17/21)\u001b[K\rremote: Compressing objects:  85% (18/21)\u001b[K\rremote: Compressing objects:  90% (19/21)\u001b[K\rremote: Compressing objects:  95% (20/21)\u001b[K\rremote: Compressing objects: 100% (21/21)\u001b[K\rremote: Compressing objects: 100% (21/21), done.\u001b[K\n",
            "remote: Total 70 (delta 12), reused 0 (delta 0), pack-reused 49\u001b[K\n",
            "Receiving objects:   1% (1/70)   \rReceiving objects:   2% (2/70)   \rReceiving objects:   4% (3/70)   \rReceiving objects:   5% (4/70)   \rReceiving objects:   7% (5/70)   \rReceiving objects:   8% (6/70)   \rReceiving objects:  10% (7/70)   \rReceiving objects:  11% (8/70)   \rReceiving objects:  12% (9/70)   \rReceiving objects:  14% (10/70)   \rReceiving objects:  15% (11/70)   \rReceiving objects:  17% (12/70)   \rReceiving objects:  18% (13/70)   \rReceiving objects:  20% (14/70)   \rReceiving objects:  21% (15/70)   \rReceiving objects:  22% (16/70)   \rReceiving objects:  24% (17/70)   \rReceiving objects:  25% (18/70)   \rReceiving objects:  27% (19/70)   \rReceiving objects:  28% (20/70)   \rReceiving objects:  30% (21/70)   \rReceiving objects:  31% (22/70)   \rReceiving objects:  32% (23/70)   \rReceiving objects:  34% (24/70)   \rReceiving objects:  35% (25/70)   \rReceiving objects:  37% (26/70)   \rReceiving objects:  38% (27/70)   \rReceiving objects:  40% (28/70)   \rReceiving objects:  41% (29/70)   \rReceiving objects:  42% (30/70)   \rReceiving objects:  44% (31/70)   \rReceiving objects:  45% (32/70)   \rReceiving objects:  47% (33/70)   \rReceiving objects:  48% (34/70)   \rReceiving objects:  50% (35/70)   \rReceiving objects:  51% (36/70)   \rReceiving objects:  52% (37/70)   \rReceiving objects:  54% (38/70)   \rReceiving objects:  55% (39/70)   \rReceiving objects:  57% (40/70)   \rReceiving objects:  58% (41/70)   \rReceiving objects:  60% (42/70)   \rReceiving objects:  61% (43/70)   \rReceiving objects:  62% (44/70)   \rReceiving objects:  64% (45/70)   \rReceiving objects:  65% (46/70)   \rReceiving objects:  67% (47/70)   \rReceiving objects:  68% (48/70)   \rReceiving objects:  70% (49/70)   \rReceiving objects:  71% (50/70)   \rReceiving objects:  72% (51/70)   \rReceiving objects:  74% (52/70)   \rReceiving objects:  75% (53/70)   \rReceiving objects:  77% (54/70)   \rReceiving objects:  78% (55/70)   \rReceiving objects:  80% (56/70)   \rReceiving objects:  81% (57/70)   \rReceiving objects:  82% (58/70)   \rReceiving objects:  84% (59/70)   \rReceiving objects:  85% (60/70)   \rReceiving objects:  87% (61/70)   \rReceiving objects:  88% (62/70)   \rReceiving objects:  90% (63/70)   \rReceiving objects:  91% (64/70)   \rReceiving objects:  92% (65/70)   \rReceiving objects:  94% (66/70)   \rReceiving objects:  95% (67/70)   \rReceiving objects:  97% (68/70)   \rReceiving objects:  98% (69/70)   \rReceiving objects: 100% (70/70)   \rReceiving objects: 100% (70/70), 32.83 KiB | 8.21 MiB/s, done.\n",
            "Resolving deltas:   0% (0/34)   \rResolving deltas:  20% (7/34)   \rResolving deltas:  35% (12/34)   \rResolving deltas:  41% (14/34)   \rResolving deltas:  44% (15/34)   \rResolving deltas:  47% (16/34)   \rResolving deltas:  58% (20/34)   \rResolving deltas:  76% (26/34)   \rResolving deltas:  94% (32/34)   \rResolving deltas: 100% (34/34)   \rResolving deltas: 100% (34/34), done.\n",
            "/content/cloned-repo\n",
            "dataset     eval.py  model\ttrain.ipynb  utils.py\n",
            "eval.ipynb  loss.py  README.md\ttrain.py\n"
          ]
        }
      ]
    },
    {
      "cell_type": "code",
      "source": [
        "# Mount Google Drive\n",
        "from google.colab import drive\n",
        "drive.mount('/gdrive/')"
      ],
      "metadata": {
        "id": "YOzT4IA9ZnnX",
        "outputId": "ae571449-c7c1-4986-8273-7e8635c4e6c7",
        "colab": {
          "base_uri": "https://localhost:8080/"
        }
      },
      "execution_count": 2,
      "outputs": [
        {
          "output_type": "stream",
          "name": "stdout",
          "text": [
            "Mounted at /gdrive/\n"
          ]
        }
      ]
    },
    {
      "cell_type": "code",
      "source": [
        "!pip install tensorboardX"
      ],
      "metadata": {
        "colab": {
          "base_uri": "https://localhost:8080/"
        },
        "id": "Nl4HacpJ8ckh",
        "outputId": "03735c75-6a9b-4449-f994-d3d1335eb3f5"
      },
      "execution_count": 3,
      "outputs": [
        {
          "output_type": "stream",
          "name": "stdout",
          "text": [
            "Collecting tensorboardX\n",
            "  Downloading tensorboardX-2.4.1-py2.py3-none-any.whl (124 kB)\n",
            "\u001b[?25l\r\u001b[K     |██▋                             | 10 kB 15.9 MB/s eta 0:00:01\r\u001b[K     |█████▎                          | 20 kB 19.0 MB/s eta 0:00:01\r\u001b[K     |███████▉                        | 30 kB 21.3 MB/s eta 0:00:01\r\u001b[K     |██████████▌                     | 40 kB 13.4 MB/s eta 0:00:01\r\u001b[K     |█████████████▏                  | 51 kB 13.8 MB/s eta 0:00:01\r\u001b[K     |███████████████▊                | 61 kB 13.5 MB/s eta 0:00:01\r\u001b[K     |██████████████████▍             | 71 kB 11.2 MB/s eta 0:00:01\r\u001b[K     |█████████████████████           | 81 kB 12.1 MB/s eta 0:00:01\r\u001b[K     |███████████████████████▋        | 92 kB 12.7 MB/s eta 0:00:01\r\u001b[K     |██████████████████████████▎     | 102 kB 12.7 MB/s eta 0:00:01\r\u001b[K     |█████████████████████████████   | 112 kB 12.7 MB/s eta 0:00:01\r\u001b[K     |███████████████████████████████▌| 122 kB 12.7 MB/s eta 0:00:01\r\u001b[K     |████████████████████████████████| 124 kB 12.7 MB/s \n",
            "\u001b[?25hRequirement already satisfied: numpy in /usr/local/lib/python3.7/dist-packages (from tensorboardX) (1.19.5)\n",
            "Requirement already satisfied: protobuf>=3.8.0 in /usr/local/lib/python3.7/dist-packages (from tensorboardX) (3.17.3)\n",
            "Requirement already satisfied: six>=1.9 in /usr/local/lib/python3.7/dist-packages (from protobuf>=3.8.0->tensorboardX) (1.15.0)\n",
            "Installing collected packages: tensorboardX\n",
            "Successfully installed tensorboardX-2.4.1\n"
          ]
        }
      ]
    },
    {
      "cell_type": "code",
      "execution_count": 4,
      "metadata": {
        "id": "QYHTsZf6SkxK"
      },
      "outputs": [],
      "source": [
        "import argparse\n",
        "from torch.utils.data import Dataset\n",
        "from torch.utils.data import DataLoader\n",
        "from model.build_BiSeNet import BiSeNet\n",
        "import torch\n",
        "from tensorboardX import SummaryWriter\n",
        "from tqdm import tqdm\n",
        "import numpy as np\n",
        "from utils import poly_lr_scheduler\n",
        "from utils import reverse_one_hot, compute_global_accuracy, fast_hist, per_class_iu\n",
        "from loss import DiceLoss\n",
        "import torch.cuda.amp as amp\n",
        "import os\n",
        "import os.path as osp\n",
        "import random\n",
        "import matplotlib.pyplot as plt\n",
        "import collections\n",
        "import torchvision\n",
        "from torch.utils import data\n",
        "from PIL import Image"
      ]
    },
    {
      "cell_type": "code",
      "source": [
        "class cityscapesDataSet(data.Dataset):\n",
        "    def __init__(self, root, list_path, max_iters=None, crop_size=(321, 321), mean=(128, 128, 128), scale=True, mirror=True, ignore_label=255):\n",
        "        self.root = root\n",
        "        self.list_path = list_path\n",
        "        self.crop_size = crop_size\n",
        "        self.scale = scale\n",
        "        self.ignore_label = ignore_label\n",
        "        self.mean = mean\n",
        "        self.is_mirror = mirror\n",
        "        # self.mean_bgr = np.array([104.00698793, 116.66876762, 122.67891434])\n",
        "        self.img_ids = [i_id.strip() for i_id in open(list_path)]\n",
        "        print(self.img_ids)\n",
        "        if not max_iters==None:\n",
        "            self.img_ids = self.img_ids * int(np.ceil(float(max_iters) / len(self.img_ids)))\n",
        "        self.files = []\n",
        "\n",
        "        self.id_to_trainid = {7: 0, 8: 1, 11: 2, 12: 3, 13: 4, 17: 5,\n",
        "                              19: 6, 20: 7, 21: 8, 22: 9, 23: 10, 24: 11, 25: 12,\n",
        "                              26: 13, 27: 14, 28: 15, 31: 16, 32: 17, 33: 18}\n",
        "\n",
        "        # for split in [\"train\", \"trainval\", \"val\"]:\n",
        "        for name in self.img_ids:\n",
        "            print(name)\n",
        "            print(self.root)\n",
        "            img_file = osp.join(self.root, \"images/%s\" % name)\n",
        "            print(img_file)\n",
        "            label_file = osp.join(self.root, \"labels/%s\" % name)\n",
        "            print(label_file)\n",
        "            self.files.append({\n",
        "                \"img\": img_file,\n",
        "                \"label\": label_file,\n",
        "                \"name\": name\n",
        "            })\n",
        "\n",
        "    def __len__(self):\n",
        "        return len(self.files)\n",
        "\n",
        "\n",
        "    def __getitem__(self, index):\n",
        "        datafiles = self.files[index]\n",
        "\n",
        "        image = Image.open(datafiles[\"img\"]).convert('RGB')\n",
        "        label = Image.open(datafiles[\"label\"])\n",
        "        name = datafiles[\"name\"]\n",
        "\n",
        "        # resize\n",
        "        image = image.resize(self.crop_size, Image.BILINEAR)\n",
        "        label = label.resize(self.crop_size, Image.NEAREST)\n",
        "\n",
        "        image = np.asarray(image, np.float32)\n",
        "        label = np.asarray(label, np.float32)\n",
        "\n",
        "        # re-assign labels to match the format of Cityscapes\n",
        "        label_copy = 255 * np.ones(label.shape, dtype=np.float32)\n",
        "        for k, v in self.id_to_trainid.items():\n",
        "            label_copy[label == k] = v\n",
        "\n",
        "        size = image.shape\n",
        "        image = image[:, :, ::-1]  # change to BGR\n",
        "        image -= self.mean\n",
        "        image = image.transpose((2, 0, 1))\n",
        "\n",
        "        return image.copy(), label_copy.copy(), np.array(size), name\n"
      ],
      "metadata": {
        "id": "_Iu4E8mdbpGu"
      },
      "execution_count": 11,
      "outputs": []
    },
    {
      "cell_type": "code",
      "source": [
        "def val(args, model, dataloader):\n",
        "    print('start val!')\n",
        "    # label_info = get_label_info(csv_path)\n",
        "    with torch.no_grad():\n",
        "        model.eval()\n",
        "        precision_record = []\n",
        "        hist = np.zeros((args.num_classes, args.num_classes))\n",
        "        for i, (data, label) in enumerate(dataloader):\n",
        "            label = label.type(torch.LongTensor)\n",
        "            data = data.cuda()\n",
        "            label = label.long().cuda()\n",
        "\n",
        "            # get RGB predict image\n",
        "            predict = model(data).squeeze()\n",
        "            predict = reverse_one_hot(predict)\n",
        "            predict = np.array(predict.cpu())\n",
        "\n",
        "            # get RGB label image\n",
        "            label = label.squeeze()\n",
        "            if args.loss == 'dice':\n",
        "                label = reverse_one_hot(label)\n",
        "            label = np.array(label.cpu())\n",
        "\n",
        "            # compute per pixel accuracy\n",
        "            precision = compute_global_accuracy(predict, label)\n",
        "            hist += fast_hist(label.flatten(), predict.flatten(), args.num_classes)\n",
        "\n",
        "            # there is no need to transform the one-hot array to visual RGB array\n",
        "            # predict = colour_code_segmentation(np.array(predict), label_info)\n",
        "            # label = colour_code_segmentation(np.array(label), label_info)\n",
        "            precision_record.append(precision)\n",
        "        \n",
        "        precision = np.mean(precision_record)\n",
        "        # miou = np.mean(per_class_iu(hist))\n",
        "        miou_list = per_class_iu(hist)[:-1]\n",
        "        # miou_dict, miou = cal_miou(miou_list, csv_path)\n",
        "        miou = np.mean(miou_list)\n",
        "        print('precision per pixel for test: %.3f' % precision)\n",
        "        print('mIoU for validation: %.3f' % miou)\n",
        "        # miou_str = ''\n",
        "        # for key in miou_dict:\n",
        "        #     miou_str += '{}:{},\\n'.format(key, miou_dict[key])\n",
        "        # print('mIoU for each class:')\n",
        "        # print(miou_str)\n",
        "        return precision, miou"
      ],
      "metadata": {
        "id": "gnVsI55NSpcW"
      },
      "execution_count": 6,
      "outputs": []
    },
    {
      "cell_type": "code",
      "source": [
        "def train(args, model, optimizer, dataloader_train, dataloader_val):\n",
        "    writer = SummaryWriter(comment=''.format(args.optimizer, args.context_path))\n",
        "\n",
        "    scaler = amp.GradScaler()\n",
        "\n",
        "    if args.loss == 'dice':\n",
        "        loss_func = DiceLoss()\n",
        "    elif args.loss == 'crossentropy':\n",
        "        loss_func = torch.nn.CrossEntropyLoss(ignore_index=255)\n",
        "    max_miou = 0\n",
        "    step = 0\n",
        "    for epoch in range(args.num_epochs):\n",
        "        lr = poly_lr_scheduler(optimizer, args.learning_rate, iter=epoch, max_iter=args.num_epochs)\n",
        "        model.train()\n",
        "        tq = tqdm(total=len(dataloader_train) * args.batch_size)\n",
        "        tq.set_description('epoch %d, lr %f' % (epoch, lr))\n",
        "        loss_record = []\n",
        "        for i, (data, label) in enumerate(dataloader_train):\n",
        "            \n",
        "            data = data.cuda()\n",
        "            label = label.long().cuda()\n",
        "            optimizer.zero_grad()\n",
        "            \n",
        "            with amp.autocast():\n",
        "                output, output_sup1, output_sup2 = model(data)\n",
        "                loss1 = loss_func(output, label)\n",
        "                loss2 = loss_func(output_sup1, label)\n",
        "                loss3 = loss_func(output_sup2, label)\n",
        "                loss = loss1 + loss2 + loss3\n",
        "            \n",
        "            scaler.scale(loss).backward()\n",
        "            scaler.step(optimizer)\n",
        "            scaler.update()\n",
        "            \n",
        "            tq.update(args.batch_size)\n",
        "            tq.set_postfix(loss='%.6f' % loss)\n",
        "            step += 1\n",
        "            writer.add_scalar('loss_step', loss, step)\n",
        "            loss_record.append(loss.item())\n",
        "        tq.close()\n",
        "        loss_train_mean = np.mean(loss_record)\n",
        "        writer.add_scalar('epoch/loss_epoch_train', float(loss_train_mean), epoch)\n",
        "        print('loss for train : %f' % (loss_train_mean))\n",
        "        if epoch % args.checkpoint_step == 0 and epoch != 0:\n",
        "            import os\n",
        "            if not os.path.isdir(args.save_model_path):\n",
        "                os.mkdir(args.save_model_path)\n",
        "            torch.save(model.module.state_dict(),\n",
        "                       os.path.join(args.save_model_path, 'latest_dice_loss.pth'))\n",
        "\n",
        "        if epoch % args.validation_step == 0 and epoch != 0:\n",
        "            precision, miou = val(args, model, dataloader_val)\n",
        "            if miou > max_miou:\n",
        "                max_miou = miou\n",
        "                import os \n",
        "                os.makedirs(args.save_model_path, exist_ok=True)\n",
        "                torch.save(model.module.state_dict(),\n",
        "                           os.path.join(args.save_model_path, 'best_dice_loss.pth'))\n",
        "            writer.add_scalar('epoch/precision_val', precision, epoch)\n",
        "            writer.add_scalar('epoch/miou val', miou, epoch)"
      ],
      "metadata": {
        "id": "quVpMD_PSwJS"
      },
      "execution_count": 7,
      "outputs": []
    },
    {
      "cell_type": "code",
      "source": [
        "def main(params):\n",
        "    # basic parameters\n",
        "    parser = argparse.ArgumentParser()\n",
        "    parser.add_argument('--num_epochs', type=int, default=300, help='Number of epochs to train for')\n",
        "    parser.add_argument('--epoch_start_i', type=int, default=0, help='Start counting epochs from this number')\n",
        "    parser.add_argument('--checkpoint_step', type=int, default=10, help='How often to save checkpoints (epochs)')\n",
        "    parser.add_argument('--validation_step', type=int, default=10, help='How often to perform validation (epochs)')\n",
        "    parser.add_argument('--dataset', type=str, default=\"Cityscapes\", help='Dataset you are using.')\n",
        "    parser.add_argument('--crop_height', type=int, default=720, help='Height of cropped/resized input image to network')\n",
        "    parser.add_argument('--crop_width', type=int, default=960, help='Width of cropped/resized input image to network')\n",
        "    parser.add_argument('--batch_size', type=int, default=32, help='Number of images in each batch')\n",
        "    parser.add_argument(\"--iter-size\", type=int, default=1, help=\"Accumulate gradients for ITER_SIZE iterations.\")\n",
        "    parser.add_argument('--context_path', type=str, default=\"resnet101\",\n",
        "                        help='The context path model you are using, resnet18, resnet101.')\n",
        "    parser.add_argument('--learning_rate', type=float, default=0.01, help='learning rate used for train')\n",
        "    parser.add_argument('--data', type=str, default='', help='path of training data')\n",
        "    parser.add_argument(\"--data-list\", type=str, default='/gdrive/MyDrive/data/Cityscapes/train.txt', help=\"Path to the file listing the images in the source dataset.\")\n",
        "    parser.add_argument('--num_workers', type=int, default=4, help='num of workers')\n",
        "    parser.add_argument('--num_classes', type=int, default=32, help='num of object classes (with void)')\n",
        "    parser.add_argument(\"--num-steps\", type=int, default=250000, help=\"Number of training steps.\")\n",
        "    parser.add_argument('--cuda', type=str, default='0', help='GPU ids used for training')\n",
        "    parser.add_argument('--use_gpu', type=bool, default=True, help='whether to user gpu for training')\n",
        "    parser.add_argument('--pretrained_model_path', type=str, default=None, help='path to pretrained model')\n",
        "    parser.add_argument('--save_model_path', type=str, default=None, help='path to save model')\n",
        "    parser.add_argument('--optimizer', type=str, default='rmsprop', help='optimizer, support rmsprop, sgd, adam')\n",
        "    parser.add_argument('--loss', type=str, default='crossentropy', help='loss function, dice or crossentropy')\n",
        "    parser.add_argument(\"--random-scale\", action=\"store_true\", help=\"Whether to randomly scale the inputs during the training.\")\n",
        "    parser.add_argument(\"--random-mirror\", action=\"store_true\", help=\"Whether to randomly mirror the inputs during the training.\")\n",
        "    parser.add_argument(\"--set\", type=str, default='train', help=\"choose adaptation set.\")\n",
        "\n",
        "    args = parser.parse_args(params)\n",
        "\n",
        "    input_size = ('{height}, {width}').format(height = args.crop_height, width = args.crop_width)\n",
        "    #img_mean = np.array((104.00698793, 116.66876762, 122.67891434), dtype=np.float32)\n",
        "    img_mean=(128, 128, 128)\n",
        "\n",
        "    # create dataset and dataloader\n",
        "    train_path = [os.path.join(args.data, 'train'), os.path.join(args.data, 'val')]\n",
        "    train_label_path = [os.path.join(args.data, 'train_labels'), os.path.join(args.data, 'val_labels')]\n",
        "    test_path = os.path.join(args.data, 'test')\n",
        "    test_label_path = os.path.join(args.data, 'test_labels')\n",
        "    csv_path = os.path.join(args.data, 'class_dict.csv')\n",
        "    \n",
        "    # Define dataloaders\n",
        "    dataloader_train = DataLoader(cityscapesDataSet(train_path, args.data_list, \n",
        "                    max_iters=args.num_steps * args.iter_size * args.batch_size,\n",
        "                    crop_size=input_size,\n",
        "                    scale=args.random_scale, mirror=args.random_mirror, \n",
        "                    mean=img_mean),\n",
        "        batch_size=args.batch_size, shuffle=True, num_workers=args.num_workers, pin_memory=True)\n",
        "    \n",
        "    dataloader_val = DataLoader(cityscapesDataSet(test_path, args.data_list_target,\n",
        "                  max_iters=args.num_steps * args.iter_size * args.batch_size,\n",
        "                  crop_size=input_size,\n",
        "                  scale=False, mirror=args.random_mirror, \n",
        "                  mean=img_mean, set=args.set),\n",
        "        batch_size=args.batch_size, shuffle=True, num_workers=args.num_workers, pin_memory=True)\n",
        "    \n",
        "    # build model\n",
        "    os.environ['CUDA_VISIBLE_DEVICES'] = args.cuda\n",
        "    model = BiSeNet(args.num_classes, args.context_path)\n",
        "    if torch.cuda.is_available() and args.use_gpu:\n",
        "        model = torch.nn.DataParallel(model).cuda()\n",
        "\n",
        "    # build optimizer\n",
        "    if args.optimizer == 'rmsprop':\n",
        "        optimizer = torch.optim.RMSprop(model.parameters(), args.learning_rate)\n",
        "    elif args.optimizer == 'sgd':\n",
        "        optimizer = torch.optim.SGD(model.parameters(), args.learning_rate, momentum=0.9, weight_decay=1e-4)\n",
        "    elif args.optimizer == 'adam':\n",
        "        optimizer = torch.optim.Adam(model.parameters(), args.learning_rate)\n",
        "    else:  # rmsprop\n",
        "        print('not supported optimizer \\n')\n",
        "        return None\n",
        "\n",
        "    # load pretrained model if exists\n",
        "    if args.pretrained_model_path is not None:\n",
        "        print('load model from %s ...' % args.pretrained_model_path)\n",
        "        model.module.load_state_dict(torch.load(args.pretrained_model_path))\n",
        "        print('Done!')\n",
        "\n",
        "    # train\n",
        "    train(args, model, optimizer, dataloader_train, dataloader_val)\n",
        "\n",
        "    # val(args, model, dataloader_val, csv_path)"
      ],
      "metadata": {
        "id": "8X0hpXG5S0ta"
      },
      "execution_count": 15,
      "outputs": []
    },
    {
      "cell_type": "code",
      "source": [
        "import os\n",
        "os.path.isdir('/gdrive/MyDrive/data/Cityscapes/')"
      ],
      "metadata": {
        "id": "xAThi-RKtFqV",
        "outputId": "fb785419-a76e-4434-d624-ef7bdb5e8790",
        "colab": {
          "base_uri": "https://localhost:8080/"
        }
      },
      "execution_count": 9,
      "outputs": [
        {
          "output_type": "execute_result",
          "data": {
            "text/plain": [
              "True"
            ]
          },
          "metadata": {},
          "execution_count": 9
        }
      ]
    },
    {
      "cell_type": "code",
      "source": [
        "if __name__ == '__main__':\n",
        "    params = [\n",
        "        '--num_epochs', '50',\n",
        "        '--learning_rate', '2.5e-2',\n",
        "        '--data', '/gdrive/MyDrive/data/Cityscapes',\n",
        "        '--num_workers', '8',\n",
        "        '--num_classes', '19',\n",
        "        '--cuda', '0',\n",
        "        '--batch_size', '8',\n",
        "        '--save_model_path', '/gdrive/MyDrive/Project_AML/Models/checkpoints_101_adam',\n",
        "        '--context_path', 'resnet101',  # set resnet18 or resnet101, only support resnet18 and resnet101\n",
        "        '--optimizer', 'adam',\n",
        "\n",
        "    ]\n",
        "    main(params)"
      ],
      "metadata": {
        "id": "ryuEeQcMS4R5",
        "colab": {
          "base_uri": "https://localhost:8080/",
          "height": 418
        },
        "outputId": "f7fb6868-115e-4497-9fde-81b402ffc4ae"
      },
      "execution_count": 16,
      "outputs": [
        {
          "output_type": "stream",
          "name": "stdout",
          "text": [
            "['strasbourg/strasbourg_000000_017593_leftImg8bit.png', 'zurich/zurich_000066_000019_leftImg8bit.png', 'hanover/hanover_000000_032681_leftImg8bit.png', 'ulm/ulm_000066_000019_leftImg8bit.png', 'dusseldorf/dusseldorf_000006_000019_leftImg8bit.png', 'hamburg/hamburg_000000_068916_leftImg8bit.png', 'hamburg/hamburg_000000_095561_leftImg8bit.png', 'monchengladbach/monchengladbach_000000_035364_leftImg8bit.png', 'weimar/weimar_000089_000019_leftImg8bit.png', 'aachen/aachen_000158_000019_leftImg8bit.png', 'krefeld/krefeld_000000_005503_leftImg8bit.png', 'aachen/aachen_000111_000019_leftImg8bit.png', 'strasbourg/strasbourg_000000_016024_leftImg8bit.png', 'strasbourg/strasbourg_000000_011880_leftImg8bit.png', 'strasbourg/strasbourg_000000_030017_leftImg8bit.png', 'krefeld/krefeld_000000_021814_leftImg8bit.png', 'bremen/bremen_000197_000019_leftImg8bit.png', 'zurich/zurich_000105_000019_leftImg8bit.png', 'cologne/cologne_000134_000019_leftImg8bit.png', 'dusseldorf/dusseldorf_000051_000019_leftImg8bit.png', 'tubingen/tubingen_000018_000019_leftImg8bit.png', 'krefeld/krefeld_000000_004447_leftImg8bit.png', 'zurich/zurich_000064_000019_leftImg8bit.png', 'jena/jena_000033_000019_leftImg8bit.png', 'stuttgart/stuttgart_000022_000019_leftImg8bit.png', 'stuttgart/stuttgart_000051_000019_leftImg8bit.png', 'strasbourg/strasbourg_000001_008576_leftImg8bit.png', 'ulm/ulm_000067_000019_leftImg8bit.png', 'erfurt/erfurt_000080_000019_leftImg8bit.png', 'aachen/aachen_000152_000019_leftImg8bit.png', 'dusseldorf/dusseldorf_000052_000019_leftImg8bit.png', 'hamburg/hamburg_000000_099902_leftImg8bit.png', 'bremen/bremen_000176_000019_leftImg8bit.png', 'bremen/bremen_000148_000019_leftImg8bit.png', 'darmstadt/darmstadt_000034_000019_leftImg8bit.png', 'strasbourg/strasbourg_000001_040620_leftImg8bit.png', 'hanover/hanover_000000_004752_leftImg8bit.png', 'hamburg/hamburg_000000_037741_leftImg8bit.png', 'dusseldorf/dusseldorf_000146_000019_leftImg8bit.png', 'strasbourg/strasbourg_000001_013914_leftImg8bit.png', 'hanover/hanover_000000_019116_leftImg8bit.png', 'ulm/ulm_000055_000019_leftImg8bit.png', 'ulm/ulm_000053_000019_leftImg8bit.png', 'cologne/cologne_000012_000019_leftImg8bit.png', 'hamburg/hamburg_000000_083586_leftImg8bit.png', 'hamburg/hamburg_000000_001613_leftImg8bit.png', 'strasbourg/strasbourg_000001_031116_leftImg8bit.png', 'strasbourg/strasbourg_000000_034387_leftImg8bit.png', 'hanover/hanover_000000_042581_leftImg8bit.png', 'strasbourg/strasbourg_000001_061685_leftImg8bit.png', 'bremen/bremen_000188_000019_leftImg8bit.png', 'weimar/weimar_000024_000019_leftImg8bit.png', 'jena/jena_000055_000019_leftImg8bit.png', 'cologne/cologne_000054_000019_leftImg8bit.png', 'hanover/hanover_000000_003224_leftImg8bit.png', 'tubingen/tubingen_000057_000019_leftImg8bit.png', 'bremen/bremen_000153_000019_leftImg8bit.png', 'bochum/bochum_000000_037829_leftImg8bit.png', 'jena/jena_000037_000019_leftImg8bit.png', 'bremen/bremen_000085_000019_leftImg8bit.png', 'hanover/hanover_000000_020655_leftImg8bit.png', 'bremen/bremen_000063_000019_leftImg8bit.png', 'dusseldorf/dusseldorf_000100_000019_leftImg8bit.png', 'strasbourg/strasbourg_000001_063808_leftImg8bit.png', 'zurich/zurich_000116_000019_leftImg8bit.png', 'tubingen/tubingen_000050_000019_leftImg8bit.png', 'aachen/aachen_000121_000019_leftImg8bit.png', 'darmstadt/darmstadt_000060_000019_leftImg8bit.png', 'strasbourg/strasbourg_000001_062362_leftImg8bit.png', 'strasbourg/strasbourg_000001_052297_leftImg8bit.png', 'aachen/aachen_000038_000019_leftImg8bit.png', 'strasbourg/strasbourg_000000_029179_leftImg8bit.png', 'bochum/bochum_000000_016758_leftImg8bit.png', 'hamburg/hamburg_000000_070334_leftImg8bit.png', 'bochum/bochum_000000_011711_leftImg8bit.png', 'hanover/hanover_000000_035606_leftImg8bit.png', 'tubingen/tubingen_000143_000019_leftImg8bit.png', 'strasbourg/strasbourg_000001_035562_leftImg8bit.png', 'strasbourg/strasbourg_000001_031683_leftImg8bit.png', 'hamburg/hamburg_000000_046078_leftImg8bit.png', 'cologne/cologne_000082_000019_leftImg8bit.png', 'darmstadt/darmstadt_000018_000019_leftImg8bit.png', 'zurich/zurich_000081_000019_leftImg8bit.png', 'strasbourg/strasbourg_000001_018872_leftImg8bit.png', 'stuttgart/stuttgart_000073_000019_leftImg8bit.png', 'zurich/zurich_000041_000019_leftImg8bit.png', 'jena/jena_000069_000019_leftImg8bit.png', 'weimar/weimar_000121_000019_leftImg8bit.png', 'hanover/hanover_000000_044344_leftImg8bit.png', 'dusseldorf/dusseldorf_000175_000019_leftImg8bit.png', 'weimar/weimar_000013_000019_leftImg8bit.png', 'bremen/bremen_000089_000019_leftImg8bit.png', 'hamburg/hamburg_000000_020211_leftImg8bit.png', 'erfurt/erfurt_000094_000019_leftImg8bit.png', 'tubingen/tubingen_000103_000019_leftImg8bit.png', 'hamburg/hamburg_000000_006192_leftImg8bit.png', 'bremen/bremen_000184_000019_leftImg8bit.png', 'hamburg/hamburg_000000_082301_leftImg8bit.png', 'krefeld/krefeld_000000_034156_leftImg8bit.png', 'dusseldorf/dusseldorf_000115_000019_leftImg8bit.png', 'dusseldorf/dusseldorf_000065_000019_leftImg8bit.png', 'hanover/hanover_000000_003411_leftImg8bit.png', 'hanover/hanover_000000_040793_leftImg8bit.png', 'weimar/weimar_000049_000019_leftImg8bit.png', 'hamburg/hamburg_000000_033506_leftImg8bit.png', 'strasbourg/strasbourg_000000_026575_leftImg8bit.png', 'bremen/bremen_000112_000019_leftImg8bit.png', 'cologne/cologne_000112_000019_leftImg8bit.png', 'zurich/zurich_000109_000019_leftImg8bit.png', 'strasbourg/strasbourg_000001_060061_leftImg8bit.png', 'hanover/hanover_000000_021337_leftImg8bit.png', 'strasbourg/strasbourg_000000_034040_leftImg8bit.png', 'cologne/cologne_000017_000019_leftImg8bit.png', 'dusseldorf/dusseldorf_000088_000019_leftImg8bit.png', 'hamburg/hamburg_000000_088197_leftImg8bit.png', 'darmstadt/darmstadt_000035_000019_leftImg8bit.png', 'zurich/zurich_000080_000019_leftImg8bit.png', 'dusseldorf/dusseldorf_000060_000019_leftImg8bit.png', 'dusseldorf/dusseldorf_000141_000019_leftImg8bit.png', 'dusseldorf/dusseldorf_000211_000019_leftImg8bit.png', 'stuttgart/stuttgart_000084_000019_leftImg8bit.png', 'ulm/ulm_000086_000019_leftImg8bit.png', 'cologne/cologne_000046_000019_leftImg8bit.png', 'bremen/bremen_000068_000019_leftImg8bit.png', 'weimar/weimar_000035_000019_leftImg8bit.png', 'krefeld/krefeld_000000_010329_leftImg8bit.png', 'strasbourg/strasbourg_000001_013266_leftImg8bit.png', 'hamburg/hamburg_000000_073999_leftImg8bit.png', 'aachen/aachen_000019_000019_leftImg8bit.png', 'tubingen/tubingen_000069_000019_leftImg8bit.png', 'hamburg/hamburg_000000_061790_leftImg8bit.png', 'strasbourg/strasbourg_000001_012956_leftImg8bit.png', 'weimar/weimar_000092_000019_leftImg8bit.png', 'ulm/ulm_000034_000019_leftImg8bit.png', 'hamburg/hamburg_000000_039420_leftImg8bit.png', 'jena/jena_000116_000019_leftImg8bit.png', 'hamburg/hamburg_000000_102379_leftImg8bit.png', 'dusseldorf/dusseldorf_000101_000019_leftImg8bit.png', 'strasbourg/strasbourg_000000_006106_leftImg8bit.png', 'cologne/cologne_000080_000019_leftImg8bit.png', 'zurich/zurich_000028_000019_leftImg8bit.png', 'bochum/bochum_000000_024196_leftImg8bit.png', 'aachen/aachen_000130_000019_leftImg8bit.png', 'stuttgart/stuttgart_000092_000019_leftImg8bit.png', 'tubingen/tubingen_000117_000019_leftImg8bit.png', 'bremen/bremen_000215_000019_leftImg8bit.png', 'aachen/aachen_000067_000019_leftImg8bit.png', 'dusseldorf/dusseldorf_000091_000019_leftImg8bit.png', 'bremen/bremen_000272_000019_leftImg8bit.png', 'hamburg/hamburg_000000_045437_leftImg8bit.png', 'strasbourg/strasbourg_000001_018432_leftImg8bit.png', 'ulm/ulm_000044_000019_leftImg8bit.png', 'hamburg/hamburg_000000_042505_leftImg8bit.png', 'monchengladbach/monchengladbach_000000_026006_leftImg8bit.png', 'aachen/aachen_000115_000019_leftImg8bit.png', 'ulm/ulm_000090_000019_leftImg8bit.png', 'hamburg/hamburg_000000_054555_leftImg8bit.png', 'darmstadt/darmstadt_000084_000019_leftImg8bit.png', 'ulm/ulm_000040_000019_leftImg8bit.png', 'aachen/aachen_000167_000019_leftImg8bit.png', 'bremen/bremen_000292_000019_leftImg8bit.png', 'hamburg/hamburg_000000_044400_leftImg8bit.png', 'hamburg/hamburg_000000_057487_leftImg8bit.png', 'weimar/weimar_000113_000019_leftImg8bit.png', 'hamburg/hamburg_000000_063403_leftImg8bit.png', 'jena/jena_000044_000019_leftImg8bit.png', 'strasbourg/strasbourg_000001_037645_leftImg8bit.png', 'hamburg/hamburg_000000_085982_leftImg8bit.png', 'bremen/bremen_000022_000019_leftImg8bit.png', 'strasbourg/strasbourg_000000_031223_leftImg8bit.png', 'cologne/cologne_000115_000019_leftImg8bit.png', 'bremen/bremen_000253_000019_leftImg8bit.png', 'stuttgart/stuttgart_000011_000019_leftImg8bit.png', 'aachen/aachen_000063_000019_leftImg8bit.png', 'strasbourg/strasbourg_000000_031602_leftImg8bit.png', 'erfurt/erfurt_000011_000019_leftImg8bit.png', 'bochum/bochum_000000_033056_leftImg8bit.png', 'bremen/bremen_000122_000019_leftImg8bit.png', 'jena/jena_000091_000019_leftImg8bit.png', 'erfurt/erfurt_000081_000019_leftImg8bit.png', 'hamburg/hamburg_000000_014940_leftImg8bit.png', 'bochum/bochum_000000_027057_leftImg8bit.png', 'hanover/hanover_000000_000381_leftImg8bit.png', 'hanover/hanover_000000_052013_leftImg8bit.png', 'erfurt/erfurt_000000_000019_leftImg8bit.png', 'bochum/bochum_000000_021479_leftImg8bit.png', 'hamburg/hamburg_000000_093325_leftImg8bit.png', 'krefeld/krefeld_000000_009926_leftImg8bit.png', 'stuttgart/stuttgart_000186_000019_leftImg8bit.png', 'krefeld/krefeld_000000_011483_leftImg8bit.png', 'stuttgart/stuttgart_000075_000019_leftImg8bit.png', 'hamburg/hamburg_000000_014030_leftImg8bit.png', 'hanover/hanover_000000_052887_leftImg8bit.png', 'dusseldorf/dusseldorf_000124_000019_leftImg8bit.png', 'strasbourg/strasbourg_000001_020904_leftImg8bit.png', 'hanover/hanover_000000_042992_leftImg8bit.png', 'weimar/weimar_000059_000019_leftImg8bit.png', 'weimar/weimar_000096_000019_leftImg8bit.png', 'dusseldorf/dusseldorf_000155_000019_leftImg8bit.png', 'hamburg/hamburg_000000_088627_leftImg8bit.png', 'stuttgart/stuttgart_000125_000019_leftImg8bit.png', 'hanover/hanover_000000_010553_leftImg8bit.png', 'krefeld/krefeld_000000_000108_leftImg8bit.png', 'ulm/ulm_000003_000019_leftImg8bit.png', 'stuttgart/stuttgart_000164_000019_leftImg8bit.png', 'bremen/bremen_000027_000019_leftImg8bit.png', 'jena/jena_000074_000019_leftImg8bit.png', 'strasbourg/strasbourg_000001_000113_leftImg8bit.png', 'hamburg/hamburg_000000_053563_leftImg8bit.png', 'cologne/cologne_000089_000019_leftImg8bit.png', 'tubingen/tubingen_000025_000019_leftImg8bit.png', 'monchengladbach/monchengladbach_000000_002478_leftImg8bit.png', 'cologne/cologne_000106_000019_leftImg8bit.png', 'zurich/zurich_000088_000019_leftImg8bit.png', 'zurich/zurich_000003_000019_leftImg8bit.png', 'cologne/cologne_000023_000019_leftImg8bit.png', 'stuttgart/stuttgart_000019_000019_leftImg8bit.png', 'cologne/cologne_000145_000019_leftImg8bit.png', 'tubingen/tubingen_000138_000019_leftImg8bit.png', 'stuttgart/stuttgart_000110_000019_leftImg8bit.png', 'bremen/bremen_000221_000019_leftImg8bit.png', 'hamburg/hamburg_000000_064269_leftImg8bit.png', 'hamburg/hamburg_000000_047108_leftImg8bit.png', 'hanover/hanover_000000_014319_leftImg8bit.png', 'hanover/hanover_000000_028460_leftImg8bit.png', 'bremen/bremen_000093_000019_leftImg8bit.png', 'hanover/hanover_000000_004646_leftImg8bit.png', 'aachen/aachen_000062_000019_leftImg8bit.png', 'erfurt/erfurt_000034_000019_leftImg8bit.png', 'cologne/cologne_000108_000019_leftImg8bit.png', 'aachen/aachen_000088_000019_leftImg8bit.png', 'tubingen/tubingen_000140_000019_leftImg8bit.png', 'bremen/bremen_000274_000019_leftImg8bit.png', 'stuttgart/stuttgart_000093_000019_leftImg8bit.png', 'bremen/bremen_000257_000019_leftImg8bit.png', 'zurich/zurich_000046_000019_leftImg8bit.png', 'ulm/ulm_000024_000019_leftImg8bit.png', 'jena/jena_000046_000019_leftImg8bit.png', 'strasbourg/strasbourg_000001_030120_leftImg8bit.png', 'monchengladbach/monchengladbach_000000_026908_leftImg8bit.png', 'cologne/cologne_000138_000019_leftImg8bit.png', 'aachen/aachen_000143_000019_leftImg8bit.png', 'stuttgart/stuttgart_000132_000019_leftImg8bit.png', 'monchengladbach/monchengladbach_000000_027628_leftImg8bit.png', 'tubingen/tubingen_000056_000019_leftImg8bit.png', 'ulm/ulm_000071_000019_leftImg8bit.png', 'ulm/ulm_000033_000019_leftImg8bit.png', 'bremen/bremen_000086_000019_leftImg8bit.png', 'darmstadt/darmstadt_000047_000019_leftImg8bit.png', 'krefeld/krefeld_000000_025812_leftImg8bit.png', 'stuttgart/stuttgart_000181_000019_leftImg8bit.png', 'darmstadt/darmstadt_000028_000019_leftImg8bit.png', 'hanover/hanover_000000_026743_leftImg8bit.png', 'weimar/weimar_000055_000019_leftImg8bit.png', 'hamburg/hamburg_000000_038915_leftImg8bit.png', 'dusseldorf/dusseldorf_000063_000019_leftImg8bit.png', 'strasbourg/strasbourg_000001_064393_leftImg8bit.png', 'hanover/hanover_000000_015849_leftImg8bit.png', 'strasbourg/strasbourg_000000_015506_leftImg8bit.png', 'bochum/bochum_000000_018195_leftImg8bit.png', 'dusseldorf/dusseldorf_000168_000019_leftImg8bit.png', 'bochum/bochum_000000_015880_leftImg8bit.png', 'stuttgart/stuttgart_000169_000019_leftImg8bit.png', 'aachen/aachen_000002_000019_leftImg8bit.png', 'bremen/bremen_000314_000019_leftImg8bit.png', 'strasbourg/strasbourg_000001_014033_leftImg8bit.png', 'hanover/hanover_000000_025335_leftImg8bit.png', 'tubingen/tubingen_000125_000019_leftImg8bit.png', 'strasbourg/strasbourg_000001_026856_leftImg8bit.png', 'strasbourg/strasbourg_000001_008310_leftImg8bit.png', 'hanover/hanover_000000_048379_leftImg8bit.png', 'strasbourg/strasbourg_000001_021951_leftImg8bit.png', 'monchengladbach/monchengladbach_000000_020856_leftImg8bit.png', 'dusseldorf/dusseldorf_000186_000019_leftImg8bit.png', 'bremen/bremen_000293_000019_leftImg8bit.png', 'darmstadt/darmstadt_000024_000019_leftImg8bit.png', 'strasbourg/strasbourg_000001_048605_leftImg8bit.png', 'bremen/bremen_000183_000019_leftImg8bit.png', 'strasbourg/strasbourg_000001_026106_leftImg8bit.png', 'dusseldorf/dusseldorf_000064_000019_leftImg8bit.png', 'bremen/bremen_000129_000019_leftImg8bit.png', 'stuttgart/stuttgart_000143_000019_leftImg8bit.png', 'ulm/ulm_000026_000019_leftImg8bit.png', 'hamburg/hamburg_000000_091900_leftImg8bit.png', 'dusseldorf/dusseldorf_000079_000019_leftImg8bit.png', 'bremen/bremen_000196_000019_leftImg8bit.png', 'bremen/bremen_000059_000019_leftImg8bit.png', 'hamburg/hamburg_000000_062964_leftImg8bit.png', 'bremen/bremen_000227_000019_leftImg8bit.png', 'zurich/zurich_000069_000019_leftImg8bit.png', 'jena/jena_000080_000019_leftImg8bit.png', 'aachen/aachen_000001_000019_leftImg8bit.png', 'strasbourg/strasbourg_000000_017159_leftImg8bit.png', 'bochum/bochum_000000_014332_leftImg8bit.png', 'bochum/bochum_000000_030913_leftImg8bit.png', 'jena/jena_000024_000019_leftImg8bit.png', 'strasbourg/strasbourg_000000_030706_leftImg8bit.png', 'cologne/cologne_000049_000019_leftImg8bit.png', 'bochum/bochum_000000_007651_leftImg8bit.png', 'stuttgart/stuttgart_000020_000019_leftImg8bit.png', 'hanover/hanover_000000_032559_leftImg8bit.png', 'hanover/hanover_000000_055124_leftImg8bit.png', 'tubingen/tubingen_000119_000019_leftImg8bit.png', 'bremen/bremen_000267_000019_leftImg8bit.png', 'weimar/weimar_000082_000019_leftImg8bit.png', 'bremen/bremen_000119_000019_leftImg8bit.png', 'hanover/hanover_000000_001620_leftImg8bit.png', 'cologne/cologne_000075_000019_leftImg8bit.png', 'hamburg/hamburg_000000_036003_leftImg8bit.png', 'stuttgart/stuttgart_000195_000019_leftImg8bit.png', 'dusseldorf/dusseldorf_000204_000019_leftImg8bit.png', 'bremen/bremen_000177_000019_leftImg8bit.png', 'weimar/weimar_000002_000019_leftImg8bit.png', 'jena/jena_000060_000019_leftImg8bit.png', 'strasbourg/strasbourg_000001_052050_leftImg8bit.png', 'bremen/bremen_000295_000019_leftImg8bit.png', 'jena/jena_000022_000019_leftImg8bit.png', 'darmstadt/darmstadt_000039_000019_leftImg8bit.png', 'jena/jena_000100_000019_leftImg8bit.png', 'aachen/aachen_000025_000019_leftImg8bit.png', 'erfurt/erfurt_000076_000019_leftImg8bit.png', 'stuttgart/stuttgart_000159_000019_leftImg8bit.png', 'monchengladbach/monchengladbach_000000_025215_leftImg8bit.png', 'hanover/hanover_000000_051152_leftImg8bit.png', 'erfurt/erfurt_000032_000019_leftImg8bit.png', 'dusseldorf/dusseldorf_000154_000019_leftImg8bit.png', 'dusseldorf/dusseldorf_000075_000019_leftImg8bit.png', 'bremen/bremen_000023_000019_leftImg8bit.png', 'strasbourg/strasbourg_000000_029400_leftImg8bit.png', 'strasbourg/strasbourg_000001_042309_leftImg8bit.png', 'stuttgart/stuttgart_000052_000019_leftImg8bit.png', 'tubingen/tubingen_000130_000019_leftImg8bit.png', 'cologne/cologne_000101_000019_leftImg8bit.png', 'darmstadt/darmstadt_000048_000019_leftImg8bit.png', 'bremen/bremen_000178_000019_leftImg8bit.png', 'weimar/weimar_000088_000019_leftImg8bit.png', 'bremen/bremen_000145_000019_leftImg8bit.png', 'bremen/bremen_000315_000019_leftImg8bit.png', 'aachen/aachen_000110_000019_leftImg8bit.png', 'strasbourg/strasbourg_000001_039114_leftImg8bit.png', 'dusseldorf/dusseldorf_000122_000019_leftImg8bit.png', 'stuttgart/stuttgart_000026_000019_leftImg8bit.png', 'dusseldorf/dusseldorf_000150_000019_leftImg8bit.png', 'tubingen/tubingen_000048_000019_leftImg8bit.png', 'bremen/bremen_000278_000019_leftImg8bit.png', 'hanover/hanover_000000_030889_leftImg8bit.png', 'tubingen/tubingen_000054_000019_leftImg8bit.png', 'strasbourg/strasbourg_000001_025833_leftImg8bit.png', 'cologne/cologne_000060_000019_leftImg8bit.png', 'tubingen/tubingen_000024_000019_leftImg8bit.png', 'krefeld/krefeld_000000_010160_leftImg8bit.png', 'monchengladbach/monchengladbach_000000_033683_leftImg8bit.png', 'aachen/aachen_000004_000019_leftImg8bit.png', 'bremen/bremen_000256_000019_leftImg8bit.png', 'erfurt/erfurt_000100_000019_leftImg8bit.png', 'krefeld/krefeld_000000_032845_leftImg8bit.png', 'hamburg/hamburg_000000_067338_leftImg8bit.png', 'strasbourg/strasbourg_000000_014416_leftImg8bit.png', 'bremen/bremen_000154_000019_leftImg8bit.png', 'ulm/ulm_000072_000019_leftImg8bit.png', 'darmstadt/darmstadt_000046_000019_leftImg8bit.png', 'strasbourg/strasbourg_000000_015764_leftImg8bit.png', 'ulm/ulm_000001_000019_leftImg8bit.png', 'strasbourg/strasbourg_000001_047619_leftImg8bit.png', 'bremen/bremen_000021_000019_leftImg8bit.png', 'zurich/zurich_000014_000019_leftImg8bit.png', 'aachen/aachen_000085_000019_leftImg8bit.png', 'bremen/bremen_000225_000019_leftImg8bit.png', 'strasbourg/strasbourg_000001_026355_leftImg8bit.png', 'dusseldorf/dusseldorf_000000_000019_leftImg8bit.png', 'strasbourg/strasbourg_000001_007148_leftImg8bit.png', 'monchengladbach/monchengladbach_000001_000876_leftImg8bit.png', 'bremen/bremen_000152_000019_leftImg8bit.png', 'ulm/ulm_000019_000019_leftImg8bit.png', 'stuttgart/stuttgart_000053_000019_leftImg8bit.png', 'jena/jena_000103_000019_leftImg8bit.png', 'strasbourg/strasbourg_000000_009110_leftImg8bit.png', 'dusseldorf/dusseldorf_000078_000019_leftImg8bit.png', 'aachen/aachen_000013_000019_leftImg8bit.png', 'tubingen/tubingen_000105_000019_leftImg8bit.png', 'zurich/zurich_000074_000019_leftImg8bit.png', 'zurich/zurich_000075_000019_leftImg8bit.png', 'weimar/weimar_000060_000019_leftImg8bit.png', 'strasbourg/strasbourg_000001_049399_leftImg8bit.png', 'stuttgart/stuttgart_000076_000019_leftImg8bit.png', 'hamburg/hamburg_000000_104857_leftImg8bit.png', 'jena/jena_000088_000019_leftImg8bit.png', 'hamburg/hamburg_000000_090742_leftImg8bit.png', 'monchengladbach/monchengladbach_000000_030662_leftImg8bit.png', 'weimar/weimar_000028_000019_leftImg8bit.png', 'tubingen/tubingen_000039_000019_leftImg8bit.png', 'aachen/aachen_000162_000019_leftImg8bit.png', 'darmstadt/darmstadt_000012_000019_leftImg8bit.png', 'bochum/bochum_000000_000313_leftImg8bit.png', 'aachen/aachen_000165_000019_leftImg8bit.png', 'strasbourg/strasbourg_000000_032186_leftImg8bit.png', 'hamburg/hamburg_000000_071016_leftImg8bit.png', 'monchengladbach/monchengladbach_000000_009690_leftImg8bit.png', 'jena/jena_000111_000019_leftImg8bit.png', 'hamburg/hamburg_000000_065604_leftImg8bit.png', 'aachen/aachen_000009_000019_leftImg8bit.png', 'hamburg/hamburg_000000_059720_leftImg8bit.png', 'hanover/hanover_000000_005288_leftImg8bit.png', 'zurich/zurich_000058_000019_leftImg8bit.png', 'strasbourg/strasbourg_000000_029839_leftImg8bit.png', 'bremen/bremen_000149_000019_leftImg8bit.png', 'weimar/weimar_000085_000019_leftImg8bit.png', 'dusseldorf/dusseldorf_000137_000019_leftImg8bit.png', 'bochum/bochum_000000_026056_leftImg8bit.png', 'jena/jena_000026_000019_leftImg8bit.png', 'strasbourg/strasbourg_000001_007657_leftImg8bit.png', 'erfurt/erfurt_000098_000019_leftImg8bit.png', 'stuttgart/stuttgart_000046_000019_leftImg8bit.png', 'stuttgart/stuttgart_000122_000019_leftImg8bit.png', 'strasbourg/strasbourg_000001_045481_leftImg8bit.png', 'stuttgart/stuttgart_000004_000019_leftImg8bit.png', 'monchengladbach/monchengladbach_000000_007695_leftImg8bit.png', 'stuttgart/stuttgart_000025_000019_leftImg8bit.png', 'hanover/hanover_000000_007780_leftImg8bit.png', 'ulm/ulm_000045_000019_leftImg8bit.png', 'aachen/aachen_000084_000019_leftImg8bit.png', 'stuttgart/stuttgart_000150_000019_leftImg8bit.png', 'strasbourg/strasbourg_000000_018874_leftImg8bit.png', 'jena/jena_000011_000019_leftImg8bit.png', 'jena/jena_000107_000019_leftImg8bit.png', 'monchengladbach/monchengladbach_000001_000054_leftImg8bit.png', 'bremen/bremen_000309_000019_leftImg8bit.png', 'tubingen/tubingen_000101_000019_leftImg8bit.png', 'cologne/cologne_000010_000019_leftImg8bit.png', 'bremen/bremen_000062_000019_leftImg8bit.png', 'tubingen/tubingen_000108_000019_leftImg8bit.png', 'stuttgart/stuttgart_000115_000019_leftImg8bit.png', 'hamburg/hamburg_000000_056508_leftImg8bit.png', 'bremen/bremen_000098_000019_leftImg8bit.png', 'bremen/bremen_000003_000019_leftImg8bit.png', 'bremen/bremen_000066_000019_leftImg8bit.png', 'strasbourg/strasbourg_000001_017844_leftImg8bit.png', 'strasbourg/strasbourg_000001_033448_leftImg8bit.png', 'tubingen/tubingen_000088_000019_leftImg8bit.png', 'zurich/zurich_000055_000019_leftImg8bit.png', 'aachen/aachen_000050_000019_leftImg8bit.png', 'monchengladbach/monchengladbach_000000_007098_leftImg8bit.png', 'hamburg/hamburg_000000_037161_leftImg8bit.png', 'hamburg/hamburg_000000_032719_leftImg8bit.png', 'strasbourg/strasbourg_000000_002183_leftImg8bit.png', 'bremen/bremen_000042_000019_leftImg8bit.png', 'aachen/aachen_000012_000019_leftImg8bit.png', 'dusseldorf/dusseldorf_000025_000019_leftImg8bit.png', 'hanover/hanover_000000_028202_leftImg8bit.png', 'jena/jena_000019_000019_leftImg8bit.png', 'aachen/aachen_000160_000019_leftImg8bit.png', 'dusseldorf/dusseldorf_000001_000019_leftImg8bit.png', 'erfurt/erfurt_000019_000019_leftImg8bit.png', 'bremen/bremen_000026_000019_leftImg8bit.png', 'weimar/weimar_000103_000019_leftImg8bit.png', 'bremen/bremen_000028_000019_leftImg8bit.png', 'stuttgart/stuttgart_000127_000019_leftImg8bit.png', 'erfurt/erfurt_000085_000019_leftImg8bit.png', 'aachen/aachen_000056_000019_leftImg8bit.png', 'stuttgart/stuttgart_000060_000019_leftImg8bit.png', 'jena/jena_000067_000019_leftImg8bit.png', 'aachen/aachen_000047_000019_leftImg8bit.png', 'strasbourg/strasbourg_000001_037776_leftImg8bit.png', 'cologne/cologne_000000_000019_leftImg8bit.png', 'dusseldorf/dusseldorf_000177_000019_leftImg8bit.png', 'strasbourg/strasbourg_000000_016436_leftImg8bit.png', 'hamburg/hamburg_000000_055894_leftImg8bit.png', 'ulm/ulm_000016_000019_leftImg8bit.png', 'ulm/ulm_000049_000019_leftImg8bit.png', 'stuttgart/stuttgart_000021_000019_leftImg8bit.png', 'tubingen/tubingen_000085_000019_leftImg8bit.png', 'strasbourg/strasbourg_000001_019698_leftImg8bit.png', 'cologne/cologne_000011_000019_leftImg8bit.png', 'weimar/weimar_000068_000019_leftImg8bit.png', 'tubingen/tubingen_000097_000019_leftImg8bit.png', 'tubingen/tubingen_000010_000019_leftImg8bit.png', 'hamburg/hamburg_000000_105296_leftImg8bit.png', 'cologne/cologne_000042_000019_leftImg8bit.png', 'krefeld/krefeld_000000_021000_leftImg8bit.png', 'dusseldorf/dusseldorf_000153_000019_leftImg8bit.png', 'strasbourg/strasbourg_000001_051448_leftImg8bit.png', 'strasbourg/strasbourg_000001_006153_leftImg8bit.png', 'zurich/zurich_000044_000019_leftImg8bit.png', 'jena/jena_000065_000019_leftImg8bit.png', 'hanover/hanover_000000_040294_leftImg8bit.png', 'strasbourg/strasbourg_000001_051934_leftImg8bit.png', 'erfurt/erfurt_000039_000019_leftImg8bit.png', 'erfurt/erfurt_000060_000019_leftImg8bit.png', 'jena/jena_000008_000019_leftImg8bit.png', 'strasbourg/strasbourg_000001_042434_leftImg8bit.png', 'hamburg/hamburg_000000_096624_leftImg8bit.png', 'ulm/ulm_000008_000019_leftImg8bit.png', 'strasbourg/strasbourg_000001_035689_leftImg8bit.png', 'krefeld/krefeld_000000_027075_leftImg8bit.png', 'bremen/bremen_000155_000019_leftImg8bit.png', 'hamburg/hamburg_000000_065843_leftImg8bit.png', 'stuttgart/stuttgart_000188_000019_leftImg8bit.png', 'hanover/hanover_000000_056800_leftImg8bit.png', 'bochum/bochum_000000_031922_leftImg8bit.png', 'bremen/bremen_000264_000019_leftImg8bit.png']\n",
            "strasbourg/strasbourg_000000_017593_leftImg8bit.png\n",
            "['/gdrive/MyDrive/data/Cityscapes/train', '/gdrive/MyDrive/data/Cityscapes/val']\n"
          ]
        },
        {
          "output_type": "error",
          "ename": "TypeError",
          "evalue": "ignored",
          "traceback": [
            "\u001b[0;31m---------------------------------------------------------------------------\u001b[0m",
            "\u001b[0;31mTypeError\u001b[0m                                 Traceback (most recent call last)",
            "\u001b[0;32m<ipython-input-16-f7f070506051>\u001b[0m in \u001b[0;36m<module>\u001b[0;34m()\u001b[0m\n\u001b[1;32m     13\u001b[0m \u001b[0;34m\u001b[0m\u001b[0m\n\u001b[1;32m     14\u001b[0m     ]\n\u001b[0;32m---> 15\u001b[0;31m     \u001b[0mmain\u001b[0m\u001b[0;34m(\u001b[0m\u001b[0mparams\u001b[0m\u001b[0;34m)\u001b[0m\u001b[0;34m\u001b[0m\u001b[0;34m\u001b[0m\u001b[0m\n\u001b[0m",
            "\u001b[0;32m<ipython-input-15-d194fab75630>\u001b[0m in \u001b[0;36mmain\u001b[0;34m(params)\u001b[0m\n\u001b[1;32m     47\u001b[0m                     \u001b[0mcrop_size\u001b[0m\u001b[0;34m=\u001b[0m\u001b[0minput_size\u001b[0m\u001b[0;34m,\u001b[0m\u001b[0;34m\u001b[0m\u001b[0;34m\u001b[0m\u001b[0m\n\u001b[1;32m     48\u001b[0m                     \u001b[0mscale\u001b[0m\u001b[0;34m=\u001b[0m\u001b[0margs\u001b[0m\u001b[0;34m.\u001b[0m\u001b[0mrandom_scale\u001b[0m\u001b[0;34m,\u001b[0m \u001b[0mmirror\u001b[0m\u001b[0;34m=\u001b[0m\u001b[0margs\u001b[0m\u001b[0;34m.\u001b[0m\u001b[0mrandom_mirror\u001b[0m\u001b[0;34m,\u001b[0m\u001b[0;34m\u001b[0m\u001b[0;34m\u001b[0m\u001b[0m\n\u001b[0;32m---> 49\u001b[0;31m                     mean=img_mean),\n\u001b[0m\u001b[1;32m     50\u001b[0m         batch_size=args.batch_size, shuffle=True, num_workers=args.num_workers, pin_memory=True)\n\u001b[1;32m     51\u001b[0m \u001b[0;34m\u001b[0m\u001b[0m\n",
            "\u001b[0;32m<ipython-input-11-43b2d8683a0f>\u001b[0m in \u001b[0;36m__init__\u001b[0;34m(self, root, list_path, max_iters, crop_size, mean, scale, mirror, ignore_label)\u001b[0m\n\u001b[1;32m     23\u001b[0m             \u001b[0mprint\u001b[0m\u001b[0;34m(\u001b[0m\u001b[0mname\u001b[0m\u001b[0;34m)\u001b[0m\u001b[0;34m\u001b[0m\u001b[0;34m\u001b[0m\u001b[0m\n\u001b[1;32m     24\u001b[0m             \u001b[0mprint\u001b[0m\u001b[0;34m(\u001b[0m\u001b[0mself\u001b[0m\u001b[0;34m.\u001b[0m\u001b[0mroot\u001b[0m\u001b[0;34m)\u001b[0m\u001b[0;34m\u001b[0m\u001b[0;34m\u001b[0m\u001b[0m\n\u001b[0;32m---> 25\u001b[0;31m             \u001b[0mimg_file\u001b[0m \u001b[0;34m=\u001b[0m \u001b[0mosp\u001b[0m\u001b[0;34m.\u001b[0m\u001b[0mjoin\u001b[0m\u001b[0;34m(\u001b[0m\u001b[0mself\u001b[0m\u001b[0;34m.\u001b[0m\u001b[0mroot\u001b[0m\u001b[0;34m,\u001b[0m \u001b[0;34m\"images/%s\"\u001b[0m \u001b[0;34m%\u001b[0m \u001b[0mname\u001b[0m\u001b[0;34m)\u001b[0m\u001b[0;34m\u001b[0m\u001b[0;34m\u001b[0m\u001b[0m\n\u001b[0m\u001b[1;32m     26\u001b[0m             \u001b[0mprint\u001b[0m\u001b[0;34m(\u001b[0m\u001b[0mimg_file\u001b[0m\u001b[0;34m)\u001b[0m\u001b[0;34m\u001b[0m\u001b[0;34m\u001b[0m\u001b[0m\n\u001b[1;32m     27\u001b[0m             \u001b[0mlabel_file\u001b[0m \u001b[0;34m=\u001b[0m \u001b[0mosp\u001b[0m\u001b[0;34m.\u001b[0m\u001b[0mjoin\u001b[0m\u001b[0;34m(\u001b[0m\u001b[0mself\u001b[0m\u001b[0;34m.\u001b[0m\u001b[0mroot\u001b[0m\u001b[0;34m,\u001b[0m \u001b[0;34m\"labels/%s\"\u001b[0m \u001b[0;34m%\u001b[0m \u001b[0mname\u001b[0m\u001b[0;34m)\u001b[0m\u001b[0;34m\u001b[0m\u001b[0;34m\u001b[0m\u001b[0m\n",
            "\u001b[0;32m/usr/lib/python3.7/posixpath.py\u001b[0m in \u001b[0;36mjoin\u001b[0;34m(a, *p)\u001b[0m\n\u001b[1;32m     78\u001b[0m     \u001b[0mwill\u001b[0m \u001b[0mbe\u001b[0m \u001b[0mdiscarded\u001b[0m\u001b[0;34m.\u001b[0m  \u001b[0mAn\u001b[0m \u001b[0mempty\u001b[0m \u001b[0mlast\u001b[0m \u001b[0mpart\u001b[0m \u001b[0mwill\u001b[0m \u001b[0mresult\u001b[0m \u001b[0;32min\u001b[0m \u001b[0ma\u001b[0m \u001b[0mpath\u001b[0m \u001b[0mthat\u001b[0m\u001b[0;34m\u001b[0m\u001b[0;34m\u001b[0m\u001b[0m\n\u001b[1;32m     79\u001b[0m     ends with a separator.\"\"\"\n\u001b[0;32m---> 80\u001b[0;31m     \u001b[0ma\u001b[0m \u001b[0;34m=\u001b[0m \u001b[0mos\u001b[0m\u001b[0;34m.\u001b[0m\u001b[0mfspath\u001b[0m\u001b[0;34m(\u001b[0m\u001b[0ma\u001b[0m\u001b[0;34m)\u001b[0m\u001b[0;34m\u001b[0m\u001b[0;34m\u001b[0m\u001b[0m\n\u001b[0m\u001b[1;32m     81\u001b[0m     \u001b[0msep\u001b[0m \u001b[0;34m=\u001b[0m \u001b[0m_get_sep\u001b[0m\u001b[0;34m(\u001b[0m\u001b[0ma\u001b[0m\u001b[0;34m)\u001b[0m\u001b[0;34m\u001b[0m\u001b[0;34m\u001b[0m\u001b[0m\n\u001b[1;32m     82\u001b[0m     \u001b[0mpath\u001b[0m \u001b[0;34m=\u001b[0m \u001b[0ma\u001b[0m\u001b[0;34m\u001b[0m\u001b[0;34m\u001b[0m\u001b[0m\n",
            "\u001b[0;31mTypeError\u001b[0m: expected str, bytes or os.PathLike object, not list"
          ]
        }
      ]
    }
  ]
}